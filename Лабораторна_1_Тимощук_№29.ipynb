{
  "nbformat": 4,
  "nbformat_minor": 0,
  "metadata": {
    "colab": {
      "provenance": [],
      "authorship_tag": "ABX9TyPpEps3SJnMA9l2dYmjLdxX",
      "include_colab_link": true
    },
    "kernelspec": {
      "name": "python3",
      "display_name": "Python 3"
    },
    "language_info": {
      "name": "python"
    }
  },
  "cells": [
    {
      "cell_type": "markdown",
      "metadata": {
        "id": "view-in-github",
        "colab_type": "text"
      },
      "source": [
        "<a href=\"https://colab.research.google.com/github/Maxim687/Machine-learning/blob/main/%D0%9B%D0%B0%D0%B1%D0%BE%D1%80%D0%B0%D1%82%D0%BE%D1%80%D0%BD%D0%B0_1_%D0%A2%D0%B8%D0%BC%D0%BE%D1%89%D1%83%D0%BA_%E2%84%9629.ipynb\" target=\"_parent\"><img src=\"https://colab.research.google.com/assets/colab-badge.svg\" alt=\"Open In Colab\"/></a>"
      ]
    },
    {
      "cell_type": "code",
      "execution_count": null,
      "metadata": {
        "colab": {
          "base_uri": "https://localhost:8080/"
        },
        "id": "tvv-rr6m2pEB",
        "outputId": "bf04d121-49d6-4d8b-fbb0-3a7f57cab431"
      },
      "outputs": [
        {
          "output_type": "stream",
          "name": "stdout",
          "text": [
            "Requirement already satisfied: numpy in /usr/local/lib/python3.10/dist-packages (1.26.4)\n"
          ]
        }
      ],
      "source": [
        "!pip install numpy"
      ]
    },
    {
      "cell_type": "code",
      "source": [
        "#Завдання 1\n",
        "#Створіть одновимірний масив (вектор) з оберненими значеннями факторіалів натуральних чисел, починаючи з 2, та виведіть його значення.\n",
        "\n",
        "import numpy as np\n",
        "import math\n",
        "\n",
        "# кількість факторіалів, які потрібно обчислити\n",
        "n = 10  # Наприклад, перші 10 факторіалів\n",
        "\n",
        "# масив натуральних чисел починаючи з 2\n",
        "numbers = np.arange(2, n+2)\n",
        "\n",
        "# факторіали цих чисел\n",
        "factorials = np.array([math.factorial(num) for num in numbers])\n",
        "\n",
        "# обернені значення факторіалів\n",
        "inverse_factorials = 1 / factorials\n",
        "\n",
        "print(inverse_factorials)\n"
      ],
      "metadata": {
        "colab": {
          "base_uri": "https://localhost:8080/"
        },
        "id": "lDcOi9El3VgS",
        "outputId": "f190f4a4-9e4f-4bee-89a8-da1b7ba5d04f"
      },
      "execution_count": null,
      "outputs": [
        {
          "output_type": "stream",
          "name": "stdout",
          "text": [
            "[5.00000000e-01 1.66666667e-01 4.16666667e-02 8.33333333e-03\n",
            " 1.38888889e-03 1.98412698e-04 2.48015873e-05 2.75573192e-06\n",
            " 2.75573192e-07 2.50521084e-08]\n"
          ]
        }
      ]
    },
    {
      "cell_type": "code",
      "source": [
        "#Завдання 2\n",
        "#Створіть одновимірний масив (матрицю) розміром 3х3, заповніть його оберненими значеннями синусів кожного натурального числа, починаючи з 1, та виведіть його значення.\n",
        "\n",
        "import numpy as np\n",
        "\n",
        "# масив з 9 натуральних чисел (від 1 до 9)\n",
        "numbers = np.arange(1, 10)\n",
        "\n",
        "# синуси цих чисел\n",
        "sinus = np.sin(numbers)\n",
        "\n",
        "# обернені значення синусів\n",
        "inverse_sinus = 1 / sinus\n",
        "\n",
        "# перетворення масиву в матрицю 3х3\n",
        "matrix_3x3 = inverse_sinus.reshape(3, 3)\n",
        "\n",
        "print(matrix_3x3)\n"
      ],
      "metadata": {
        "colab": {
          "base_uri": "https://localhost:8080/"
        },
        "id": "qI3b9CRVpvSG",
        "outputId": "3c4a858f-490a-4d1f-de1d-43ed666e6128"
      },
      "execution_count": null,
      "outputs": [
        {
          "output_type": "stream",
          "name": "stdout",
          "text": [
            "[[ 1.18839511  1.09975017  7.0861674 ]\n",
            " [-1.32134871 -1.04283521 -3.57889955]\n",
            " [ 1.52210106  1.01075622  2.42648664]]\n"
          ]
        }
      ]
    },
    {
      "cell_type": "code",
      "source": [
        "#Завдання 3\n",
        "#Створіть масив розміром 4х4, заповніть його випадковими натуральними від 1 до 50 та знайдіть суму елементів кожного рядка.\n",
        "\n",
        "import numpy as np\n",
        "\n",
        "# масив розміром 4x4, заповнений випадковими натуральними числами від 1 до 50\n",
        "matrix_4x4 = np.random.randint(1, 51, size=(4, 4))\n",
        "\n",
        "# сума елементів кожного рядка\n",
        "row_sums = np.sum(matrix_4x4, axis=1)\n",
        "\n",
        "print(\"Масив 4x4:\")\n",
        "print(matrix_4x4)\n",
        "print(\"\\nСума елементів кожного рядка:\")\n",
        "print(row_sums)\n"
      ],
      "metadata": {
        "colab": {
          "base_uri": "https://localhost:8080/"
        },
        "id": "r5sAosiqyu-v",
        "outputId": "8a8bc392-773f-42aa-fa03-8c8af8502122"
      },
      "execution_count": null,
      "outputs": [
        {
          "output_type": "stream",
          "name": "stdout",
          "text": [
            "Масив 4x4:\n",
            "[[11 47 31 16]\n",
            " [ 6  1 24  4]\n",
            " [30 23 24 31]\n",
            " [ 2 36 40 41]]\n",
            "\n",
            "Сума елементів кожного рядка:\n",
            "[105  35 108 119]\n"
          ]
        }
      ]
    },
    {
      "cell_type": "code",
      "source": [
        "#Завдання 4\n",
        "#Створіть масив розміром 3х3, заповніть його випадковими дійсними числами в діапазоні від -1.5 до 1.5 та виведіть його значення.\n",
        "\n",
        "import numpy as np\n",
        "\n",
        "# масив розміром 3x3, заповнений випадковими дійсними числами в діапазоні від -1.5 до 1.5\n",
        "matrix_3x3 = np.random.uniform(-1.5, 1.5, size=(3, 3))\n",
        "\n",
        "print(\"Масив 3x3 з випадковими дійсними числами від -1.5 до 1.5:\")\n",
        "print(matrix_3x3)\n"
      ],
      "metadata": {
        "colab": {
          "base_uri": "https://localhost:8080/"
        },
        "id": "e9lNy8c7zacG",
        "outputId": "31a2f590-c400-4313-b2f3-7dac8322719c"
      },
      "execution_count": null,
      "outputs": [
        {
          "output_type": "stream",
          "name": "stdout",
          "text": [
            "Масив 3x3 з випадковими дійсними числами від -1.5 до 1.5:\n",
            "[[-0.86853955  0.36368803 -0.24683031]\n",
            " [ 1.41396766  0.08378489 -0.64603362]\n",
            " [ 0.98242776  1.37390491  0.22283519]]\n"
          ]
        }
      ]
    },
    {
      "cell_type": "code",
      "source": [
        "#Завдання 5\n",
        "#Створіть два одновимірних масиви розміром 4, заповніть їх випадковими цілими числами в діапазоні від 8 до 12 та виконайте на них поелементні операції додавання, віднімання та множення.\n",
        "\n",
        "import numpy as np\n",
        "\n",
        "# два одновимірних масиви розміром 4, заповнені випадковими цілими числами в діапазоні від 8 до 12\n",
        "array1 = np.random.randint(8, 13, size=4)\n",
        "array2 = np.random.randint(8, 13, size=4)\n",
        "\n",
        "# поелементне додавання\n",
        "addition = array1 + array2\n",
        "\n",
        "# поелементне віднімання\n",
        "subtraction = array1 - array2\n",
        "\n",
        "# поелементне множення\n",
        "multiplication = array1 * array2\n",
        "\n",
        "print(\"Масив 1:\", array1)\n",
        "print(\"Масив 2:\", array2)\n",
        "\n",
        "print(\"\\nРезультат поелементного додавання:\", addition)\n",
        "print(\"Результат поелементного віднімання:\", subtraction)\n",
        "print(\"Результат поелементного множення:\", multiplication)\n"
      ],
      "metadata": {
        "colab": {
          "base_uri": "https://localhost:8080/"
        },
        "id": "5t_XLNkM0iKZ",
        "outputId": "8bdd0abf-8fee-4664-c732-3a657c122402"
      },
      "execution_count": null,
      "outputs": [
        {
          "output_type": "stream",
          "name": "stdout",
          "text": [
            "Масив 1: [12 10 10  9]\n",
            "Масив 2: [ 8 12 11 12]\n",
            "\n",
            "Результат поелементного додавання: [20 22 21 21]\n",
            "Результат поелементного віднімання: [ 4 -2 -1 -3]\n",
            "Результат поелементного множення: [ 96 120 110 108]\n"
          ]
        }
      ]
    },
    {
      "cell_type": "code",
      "source": [
        "#Завдання 6\n",
        "#Створіть дві матриці 4х4, заповніть їх довільними цілими числами від 1 до 15 та знайдіть їх добуток.\n",
        "\n",
        "import numpy as np\n",
        "\n",
        "# дві матриці розміром 4x4, заповнені випадковими цілими числами в діапазоні від 1 до 15\n",
        "matrix1 = np.random.randint(1, 16, size=(4, 4))\n",
        "matrix2 = np.random.randint(1, 16, size=(4, 4))\n",
        "\n",
        "# добуток двох матриць\n",
        "matrix_dobutok = np.dot(matrix1, matrix2)\n",
        "\n",
        "print(\"Матриця 1:\")\n",
        "print(matrix1)\n",
        "\n",
        "print(\"\\nМатриця 2:\")\n",
        "print(matrix2)\n",
        "\n",
        "print(\"\\nДобуток матриць:\")\n",
        "print(matrix_dobutok)\n"
      ],
      "metadata": {
        "colab": {
          "base_uri": "https://localhost:8080/"
        },
        "id": "1Qly0HUJ1TkG",
        "outputId": "0f868a21-0129-4e31-e8fa-ff778713239d"
      },
      "execution_count": null,
      "outputs": [
        {
          "output_type": "stream",
          "name": "stdout",
          "text": [
            "Матриця 1:\n",
            "[[15  4  9  3]\n",
            " [ 3 14 15 11]\n",
            " [ 9  2  2  3]\n",
            " [14  3  3  5]]\n",
            "\n",
            "Матриця 2:\n",
            "[[ 4  2  1  5]\n",
            " [ 1 10 13  4]\n",
            " [11  6  9  3]\n",
            " [ 4 10  8  3]]\n",
            "\n",
            "Добуток матриць:\n",
            "[[175 154 172 127]\n",
            " [235 346 408 149]\n",
            " [ 72  80  77  68]\n",
            " [112 126 120 106]]\n"
          ]
        }
      ]
    },
    {
      "cell_type": "code",
      "source": [
        "#Завдання 7\n",
        "#Створіть дві матриці розміром 4х2 та 2х2, заповніть їх випадковими цілими числами в діапазоні від 1 до 3 та перемножте їх між собою.\n",
        "\n",
        "import numpy as np\n",
        "\n",
        "# дві матриці розміром 4х2 та 2х2\n",
        "matrix1 = np.random.randint(1, 4, size=(4, 2))\n",
        "matrix2 = np.random.randint(1, 4, size=(2, 2))\n",
        "\n",
        "# множення матриць\n",
        "matrix_dobutok = np.dot(matrix1, matrix2)\n",
        "\n",
        "print(\"Матриця 1 (4x2):\")\n",
        "print(matrix1)\n",
        "\n",
        "print(\"\\nМатриця 2 (2x2):\")\n",
        "print(matrix2)\n",
        "\n",
        "print(\"\\nДобуток матриць:\")\n",
        "print(matrix_dobutok)"
      ],
      "metadata": {
        "colab": {
          "base_uri": "https://localhost:8080/"
        },
        "id": "TjD82xi33Wlk",
        "outputId": "5e0ce1d9-bc8b-4834-8e1b-e5b3fc14d7e1"
      },
      "execution_count": null,
      "outputs": [
        {
          "output_type": "stream",
          "name": "stdout",
          "text": [
            "Матриця 1 (4x2):\n",
            "[[2 1]\n",
            " [1 1]\n",
            " [2 3]\n",
            " [1 1]]\n",
            "\n",
            "Матриця 2 (2x2):\n",
            "[[2 3]\n",
            " [3 1]]\n",
            "\n",
            "Добуток матриць:\n",
            "[[ 7  7]\n",
            " [ 5  4]\n",
            " [13  9]\n",
            " [ 5  4]]\n"
          ]
        }
      ]
    },
    {
      "cell_type": "code",
      "source": [
        "#Завдання 8\n",
        "#Створіть матрицю розміром 2х2, заповніть її випадковими цілими числами в діапазоні від 1 до 10 та знайдіть її обернену матрицю.\n",
        "\n",
        "import numpy as np\n",
        "\n",
        "# матриця розміром 2x2, заповнена випадковими цілими числами від 1 до 10\n",
        "matrix = np.random.randint(1, 11, size=(2, 2))\n",
        "\n",
        "# обернена матрицю\n",
        "# перевірка чи має матриця ненульовий детермінант\n",
        "if np.linalg.det(matrix) != 0:\n",
        "    inverse_matrix = np.linalg.inv(matrix)\n",
        "    print(\"Матриця:\")\n",
        "    print(matrix)\n",
        "    print(\"\\nОбернена матриця:\")\n",
        "    print(inverse_matrix)\n",
        "else:\n",
        "    print(\"Матриця є виродженою, обернену матрицю знайти неможливо.\")\n",
        "\n",
        "\n"
      ],
      "metadata": {
        "colab": {
          "base_uri": "https://localhost:8080/"
        },
        "id": "qjeaqZ5r4xFY",
        "outputId": "6d51f5ac-ee4a-4af5-dbdc-d2beceed861b"
      },
      "execution_count": null,
      "outputs": [
        {
          "output_type": "stream",
          "name": "stdout",
          "text": [
            "Матриця:\n",
            "[[3 2]\n",
            " [4 9]]\n",
            "\n",
            "Обернена матриця:\n",
            "[[ 0.47368421 -0.10526316]\n",
            " [-0.21052632  0.15789474]]\n"
          ]
        }
      ]
    },
    {
      "cell_type": "code",
      "source": [
        "#Завдання 9\n",
        "#Створіть матрицю розміром 3х3, заповніть її випадковими дійсними числами в діапазоні від -4 до 10 та транспонуйте її.\n",
        "\n",
        "import numpy as np\n",
        "\n",
        "# матриця розміром 3x3, заповнена випадковими дійсними числами в діапазоні від -4 до 10\n",
        "matrix = np.random.uniform(-4, 10, size=(3, 3))\n",
        "\n",
        "# транспонування матриці матрицю\n",
        "transposed_matrix = matrix.T\n",
        "\n",
        "print(\"Матриця 3x3:\")\n",
        "print(matrix)\n",
        "\n",
        "print(\"\\nТранспонована матриця:\")\n",
        "print(transposed_matrix)\n"
      ],
      "metadata": {
        "colab": {
          "base_uri": "https://localhost:8080/"
        },
        "id": "L4x2vQzI-BrS",
        "outputId": "51d6c550-d368-4f9c-d588-f061bf25c220"
      },
      "execution_count": null,
      "outputs": [
        {
          "output_type": "stream",
          "name": "stdout",
          "text": [
            "Матриця 3x3:\n",
            "[[ 7.19704002  6.44805051  8.20711126]\n",
            " [ 0.3625784   8.26069223  6.87375466]\n",
            " [-2.38930146 -2.82846487 -2.50129241]]\n",
            "\n",
            "Транспонована матриця:\n",
            "[[ 7.19704002  0.3625784  -2.38930146]\n",
            " [ 6.44805051  8.26069223 -2.82846487]\n",
            " [ 8.20711126  6.87375466 -2.50129241]]\n"
          ]
        }
      ]
    },
    {
      "cell_type": "code",
      "source": [
        "#Завдання 10\n",
        "#Створіть матрицю розміром 3х4 та вектор розміром 4х1, заповніть матрицю випадковими дійсними числами від 0 до 1, а вектор - випадковими дійсними числами від 0 до 1, і знайдіть добуток матриці на вектор.\n",
        "\n",
        "import numpy as np\n",
        "\n",
        "# матриця розміром 3x4, заповнену випадковими дійсними числами від 0 до 1\n",
        "matrix = np.random.uniform(0, 1, size=(3, 4))\n",
        "\n",
        "# вектор розміром 4x1, заповнений випадковими дійсними числами від 0 до 1\n",
        "vector = np.random.uniform(0, 1, size=(4, 1))\n",
        "\n",
        "# добуток матриці на вектор\n",
        "dobutok = np.dot(matrix, vector)\n",
        "\n",
        "print(\"Матриця 3x4:\")\n",
        "print(matrix)\n",
        "\n",
        "print(\"\\nВектор 4x1:\")\n",
        "print(vector)\n",
        "\n",
        "print(\"\\nДобуток матриці на вектор:\")\n",
        "print(dobutok)\n"
      ],
      "metadata": {
        "colab": {
          "base_uri": "https://localhost:8080/"
        },
        "id": "dfoFZmku_FJP",
        "outputId": "55861e95-9d1d-4411-9e39-520d59545cfc"
      },
      "execution_count": null,
      "outputs": [
        {
          "output_type": "stream",
          "name": "stdout",
          "text": [
            "Матриця 3x4:\n",
            "[[0.23978007 0.67262281 0.32804714 0.71339351]\n",
            " [0.15188975 0.00186132 0.75223683 0.92064797]\n",
            " [0.51952378 0.52616878 0.73852931 0.77208957]]\n",
            "\n",
            "Вектор 4x1:\n",
            "[[0.18555555]\n",
            " [0.64014997]\n",
            " [0.09213466]\n",
            " [0.76322334]]\n",
            "\n",
            "Добуток матриці на вектор:\n",
            "[[1.04977508]\n",
            " [0.80134261]\n",
            " [1.09054838]]\n"
          ]
        }
      ]
    },
    {
      "cell_type": "code",
      "source": [
        "#Завдання 11\n",
        "#Створіть матрицю розміром 2х3 та вектор розміром 3х1, заповніть матрицю випадковими дійсними числами від 0 до 1, а вектор - випадковими цілими числами від 0 до 1, і знайдіть добуток матриці на вектор.\n",
        "\n",
        "import numpy as np\n",
        "\n",
        "# матриця розміром 2x3, заповнену випадковими дійсними числами від 0 до 1\n",
        "matrix = np.random.uniform(0, 1, size=(2, 3))\n",
        "\n",
        "# вектор розміром 3x1, заповнений випадковими цілими числами від 0 до 1\n",
        "vector = np.random.randint(0, 2, size=(3, 1))\n",
        "\n",
        "# добуток матриці на вектор\n",
        "dobutok = np.dot(matrix, vector)\n",
        "\n",
        "print(\"Матриця 2x3:\")\n",
        "print(matrix)\n",
        "\n",
        "print(\"\\nВектор 3x1:\")\n",
        "print(vector)\n",
        "\n",
        "print(\"\\nДобуток матриці на вектор:\")\n",
        "print(dobutok)\n"
      ],
      "metadata": {
        "colab": {
          "base_uri": "https://localhost:8080/"
        },
        "id": "1xESEsn7DXsY",
        "outputId": "9e907bbf-e588-40a1-fa31-2f3514988f7b"
      },
      "execution_count": null,
      "outputs": [
        {
          "output_type": "stream",
          "name": "stdout",
          "text": [
            "Матриця 2x3:\n",
            "[[0.11703665 0.15188508 0.97700605]\n",
            " [0.97910203 0.40304369 0.41083786]]\n",
            "\n",
            "Вектор 3x1:\n",
            "[[1]\n",
            " [0]\n",
            " [1]]\n",
            "\n",
            "Добуток матриці на вектор:\n",
            "[[1.0940427 ]\n",
            " [1.38993988]]\n"
          ]
        }
      ]
    },
    {
      "cell_type": "code",
      "source": [
        "#Завдання 12\n",
        "#Створіть дві матриці розміром 3х3, заповніть їх випадковими цілими числами в діапазоні від 1 до 5 та знайдіть відношення всіх елементів першої матриці до відповідних елементів другої матриці (поелементне ділення).\n",
        "\n",
        "import numpy as np\n",
        "\n",
        "# дві матриці розміром 3x3, заповнені випадковими цілими числами від 1 до 5\n",
        "matrix1 = np.random.randint(1, 6, size=(3, 3))\n",
        "matrix2 = np.random.randint(1, 6, size=(3, 3))\n",
        "\n",
        "# поелементне ділення першої матриці на другу\n",
        "elementwise_division = matrix1 / matrix2\n",
        "\n",
        "print(\"Матриця 1 (3x3):\")\n",
        "print(matrix1)\n",
        "\n",
        "print(\"\\nМатриця 2 (3x3):\")\n",
        "print(matrix2)\n",
        "\n",
        "print(\"\\nПоелементне ділення матриць:\")\n",
        "print(elementwise_division)\n"
      ],
      "metadata": {
        "colab": {
          "base_uri": "https://localhost:8080/"
        },
        "id": "4-Za2zD5EQ4t",
        "outputId": "f4625032-0d94-4667-d9eb-e6a2859a4728"
      },
      "execution_count": null,
      "outputs": [
        {
          "output_type": "stream",
          "name": "stdout",
          "text": [
            "Матриця 1 (3x3):\n",
            "[[1 4 4]\n",
            " [1 5 5]\n",
            " [5 2 4]]\n",
            "\n",
            "Матриця 2 (3x3):\n",
            "[[3 3 1]\n",
            " [5 2 4]\n",
            " [2 1 4]]\n",
            "\n",
            "Поелементне ділення матриць:\n",
            "[[0.33333333 1.33333333 4.        ]\n",
            " [0.2        2.5        1.25      ]\n",
            " [2.5        2.         1.        ]]\n"
          ]
        }
      ]
    },
    {
      "cell_type": "code",
      "source": [
        "#Завдання 13\n",
        "#Створіть дві матриці розміром 4х4, заповніть їх випадковими дійсними числами в діапазоні від 0 до 1 та знайдіть різницю їх елементів.\n",
        "\n",
        "import numpy as np\n",
        "\n",
        "# дві матриці розміром 4x4, заповнені випадковими дійсними числами від 0 до 1\n",
        "matrix1 = np.random.uniform(0, 1, size=(4, 4))\n",
        "matrix2 = np.random.uniform(0, 1, size=(4, 4))\n",
        "\n",
        "# поелементна різниця матриць\n",
        "elementwise_difference = matrix1 - matrix2\n",
        "\n",
        "print(\"Матриця 1 (4x4):\")\n",
        "print(matrix1)\n",
        "\n",
        "print(\"\\nМатриця 2 (4x4):\")\n",
        "print(matrix2)\n",
        "\n",
        "print(\"\\nПоелементна різниця матриць:\")\n",
        "print(elementwise_difference)\n"
      ],
      "metadata": {
        "colab": {
          "base_uri": "https://localhost:8080/"
        },
        "id": "P1lMLLb5FQG3",
        "outputId": "4ea66b0b-73d9-44a0-8d3f-678ad17e4861"
      },
      "execution_count": null,
      "outputs": [
        {
          "output_type": "stream",
          "name": "stdout",
          "text": [
            "Матриця 1 (4x4):\n",
            "[[0.7143009  0.75691216 0.26449151 0.37831954]\n",
            " [0.3206772  0.56366213 0.41720339 0.48299611]\n",
            " [0.02956681 0.92549901 0.82821172 0.44599139]\n",
            " [0.31191301 0.45883838 0.68236707 0.24290113]]\n",
            "\n",
            "Матриця 2 (4x4):\n",
            "[[0.15073104 0.41763866 0.13341964 0.88779083]\n",
            " [0.51766557 0.58405731 0.033956   0.90159478]\n",
            " [0.57786714 0.63885246 0.61861336 0.30748736]\n",
            " [0.07427998 0.66174483 0.71866929 0.71637823]]\n",
            "\n",
            "Поелементна різниця матриць:\n",
            "[[ 0.56356986  0.3392735   0.13107187 -0.50947129]\n",
            " [-0.19698837 -0.02039518  0.38324739 -0.41859867]\n",
            " [-0.54830034  0.28664655  0.20959835  0.13850403]\n",
            " [ 0.23763303 -0.20290644 -0.03630222 -0.4734771 ]]\n"
          ]
        }
      ]
    },
    {
      "cell_type": "code",
      "source": [
        "#Завдання 14\n",
        "#Створіть матрицю розміром 4х4, заповніть її випадковими дійсними числами в діапазоні від -10 до 10 та знайдіть суму елементів на побічній діагоналі.\n",
        "\n",
        "import numpy as np\n",
        "\n",
        "# матриця розміром 4x4, заповнена випадковими дійсними числами від -10 до 10\n",
        "matrix = np.random.uniform(-10, 10, size=(4, 4))\n",
        "\n",
        "# побічна діагональ в матриці розміром n x n має індекси (i, n-1-i)\n",
        "side_diagonal_elements = [matrix[i, matrix.shape[1] - 1 - i] for i in range(matrix.shape[0])]\n",
        "\n",
        "# сума елементів побічної діагоналі\n",
        "sum_side_diagonal = np.sum(side_diagonal_elements)\n",
        "\n",
        "print(\"Матриця 4x4:\")\n",
        "print(matrix)\n",
        "\n",
        "print(\"\\nСума елементів побічної діагоналі:\")\n",
        "print(sum_side_diagonal)\n"
      ],
      "metadata": {
        "colab": {
          "base_uri": "https://localhost:8080/"
        },
        "id": "IgXVYTyIF22b",
        "outputId": "98c0b6bc-a677-4b74-802a-3dcc9f92ef35"
      },
      "execution_count": null,
      "outputs": [
        {
          "output_type": "stream",
          "name": "stdout",
          "text": [
            "Матриця 4x4:\n",
            "[[-8.10512871 -4.34965332  9.69351704 -8.41308829]\n",
            " [-9.69378423  5.10062821 -1.67662187 -4.31644719]\n",
            " [-8.67194076 -5.50473595  5.90797836  1.63180045]\n",
            " [-6.32711661 -6.5129695   2.42699569 -5.62744625]]\n",
            "\n",
            "Сума елементів побічної діагоналі:\n",
            "-21.921562720408247\n"
          ]
        }
      ]
    },
    {
      "cell_type": "code",
      "source": [
        "#Завдання 15\n",
        "#Створіть матрицю розміром 3х3, заповніть її випадковими дійсними числами в діапазоні від -1 до 1 та знайдіть вектор-стовпчик, що містить суму кубів елементів кожного стовпця матриці.\n",
        "\n",
        "import numpy as np\n",
        "\n",
        "# матриця розміром 3x3, заповнена випадковими дійсними числами від -1 до 1\n",
        "matrix = np.random.uniform(-1, 1, size=(3, 3))\n",
        "\n",
        "# куби елементів матриці\n",
        "cubes = matrix ** 3\n",
        "\n",
        "# сума кубів по кожному стовпцю\n",
        "sum_of_cubes = np.sum(cubes, axis=0)\n",
        "\n",
        "# перетворення суми кубів у вектор-стовпчик, тобто додання одної вимірності\n",
        "sum_of_cubes_column_vector = sum_of_cubes.reshape(-1, 1)\n",
        "\n",
        "print(\"Матриця 3x3:\")\n",
        "print(matrix)\n",
        "\n",
        "print(\"\\nКуби елементів матриці:\")\n",
        "print(cubes)\n",
        "\n",
        "print(\"\\nВектор-стовпчик з сумами кубів кожного стовпця:\")\n",
        "print(sum_of_cubes_column_vector)\n"
      ],
      "metadata": {
        "colab": {
          "base_uri": "https://localhost:8080/"
        },
        "id": "55WXEdjSHahH",
        "outputId": "882e0cc3-5955-4ca9-d707-605c4c27f9e4"
      },
      "execution_count": null,
      "outputs": [
        {
          "output_type": "stream",
          "name": "stdout",
          "text": [
            "Матриця 3x3:\n",
            "[[ 0.13598646 -0.81441213  0.89390101]\n",
            " [-0.08267252 -0.95913226  0.82712419]\n",
            " [-0.26183543 -0.58041076  0.21492878]]\n",
            "\n",
            "Куби елементів матриці:\n",
            "[[ 2.51470458e-03 -5.40172782e-01  7.14279662e-01]\n",
            " [-5.65045696e-04 -8.82339051e-01  5.65864136e-01]\n",
            " [-1.79508585e-02 -1.95526834e-01  9.92850208e-03]]\n",
            "\n",
            "Вектор-стовпчик з сумами кубів кожного стовпця:\n",
            "[[-0.0160012 ]\n",
            " [-1.61803867]\n",
            " [ 1.2900723 ]]\n"
          ]
        }
      ]
    }
  ]
}